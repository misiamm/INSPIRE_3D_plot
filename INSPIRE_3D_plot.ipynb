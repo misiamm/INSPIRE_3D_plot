{
 "cells": [
  {
   "cell_type": "code",
   "execution_count": 3,
   "id": "8fe29c37-6403-4771-b440-f31b84232fde",
   "metadata": {
    "tags": []
   },
   "outputs": [
    {
     "data": {
      "application/vnd.plotly.v1+json": {
       "config": {
        "plotlyServerURL": "https://plot.ly"
       },
       "data": [
        {
         "hovertemplate": "<b>%{hovertext}</b><br><br>log(M<sub>★</sub>)[10<sup>11</sup>]=%{x}<br>σ<sub>★</sub>[km/s]=%{y}<br>size[kpc]=%{z}<br>DoR=%{marker.color}<extra></extra>",
         "hovertext": [
          "J0847+0112",
          "J2305-3436",
          "J0909+0147",
          "J2204-3112",
          "J1438-0127",
          "J1040+0056",
          "J0842+0059",
          "J0211-3155",
          "J2359-3320",
          "J0920+0212",
          "J1412-0020",
          "J1449-0138",
          "J0224-3143",
          "J0838+0052",
          "J0317-2957",
          "J2202-3101",
          "J1457-0140",
          "J1218+0232",
          "J0844+0148",
          "J0917-0123",
          "J2356-3332",
          "J0918+0122",
          "J0240-3141",
          "J0314-3215",
          "J1411+0233",
          "J1420-0035",
          "J1114+0039",
          "J0316-2953",
          "J1228-0153",
          "J0857-0108",
          "J1527-0012",
          "J1447-0149",
          "J1527-0023",
          "J0321-3213",
          "J2312-3438",
          "J1202+0251",
          "J1414+0004",
          "J1128-0153",
          "J1417+0106",
          "J1436+0007",
          "J0904-0018",
          "J1402+0117",
          "J1156-0023",
          "J1026+0033",
          "J2257-3306",
          "J0920+0126",
          "J0326-3303",
          "J1142+0012",
          "J1456+0020",
          "J0226-3158",
          "J1154-0016",
          "J2327-3312"
         ],
         "legendgroup": "",
         "marker": {
          "color": [
           0.825093255,
           0.797731047,
           0.787672806,
           0.784897237,
           0.780994755,
           0.767070231,
           0.726792879,
           0.721573287,
           0.710572318,
           0.637540282,
           0.610483283,
           0.604298163,
           0.556649064,
           0.537669507,
           0.508577098,
           0.478071607,
           0.470480757,
           0.453378957,
           0.450823326,
           0.435361935,
           0.435291874,
           0.433346502,
           0.425474769,
           0.417571348,
           0.410430697,
           0.410364392,
           0.404968034,
           0.396672288,
           0.394887719,
           0.387734887,
           0.382597366,
           0.382481321,
           0.37254327,
           0.372302031,
           0.363709672,
           0.362880041,
           0.361908258,
           0.34461515,
           0.333966303,
           0.329596367,
           0.318325308,
           0.313170397,
           0.304283282,
           0.289615682,
           0.274711756,
           0.251970141,
           0.249927572,
           0.183226845,
           0.165749056,
           0.117680162,
           0.114995672,
           0.057014774
          ],
          "coloraxis": "coloraxis",
          "size": 5.5,
          "symbol": "circle"
         },
         "mode": "markers",
         "name": "",
         "scene": "scene",
         "showlegend": false,
         "type": "scatter3d",
         "x": [
          10.99509737,
          10.93285154,
          11.02252962,
          10.95634138,
          10.94359512,
          10.97,
          10.96,
          10.94242617,
          11.02744352,
          11.01346089,
          11.0784593,
          11.01328702,
          11.43297338,
          10.94,
          10.94109707,
          11.03949756,
          11.18,
          10.97,
          10.85,
          11.34,
          10.98916052,
          11.3546632,
          10.99167661,
          11.00029741,
          11.19,
          10.995485,
          11.21,
          10.94107442,
          11.06,
          11,
          11.24,
          10.93388755,
          11.06,
          11.09085577,
          11.12832438,
          10.83,
          11.07030609,
          11.11288491,
          10.95957938,
          11.06115358,
          11.1,
          10.82,
          11.14160799,
          11.17074274,
          10.96955492,
          10.99,
          10.96845797,
          10.92410634,
          10.85,
          10.83735659,
          10.80384264,
          11.19573286
         ],
         "y": [
          244,
          295,
          401,
          227,
          218,
          240,
          324,
          245,
          267,
          246,
          339,
          192,
          283,
          189,
          187,
          221,
          203,
          171,
          224,
          239,
          162,
          242,
          216,
          178,
          217,
          209,
          181,
          192,
          191,
          166,
          237,
          187,
          188,
          211,
          221,
          165,
          205,
          192,
          203,
          193,
          205,
          166,
          177,
          225,
          185,
          190,
          173,
          129,
          194,
          185,
          163,
          227
         ],
         "z": [
          1.372944267,
          1.291906474,
          1.053676612,
          1.394320857,
          1.201263003,
          1.29380305,
          1.008176823,
          1.067998511,
          1.039511542,
          1.477206982,
          1.424172928,
          1.444921004,
          1.54885284,
          1.277955847,
          1.047973362,
          1.447187562,
          1.659017899,
          1.403285347,
          1.144658805,
          1.366316963,
          1.058849968,
          1.707255263,
          0.806293015,
          0.656744373,
          1.067229071,
          1.345351853,
          1.52044021,
          1.016460273,
          1.6055248,
          1.400019509,
          1.25520397,
          1.508394137,
          1.117926188,
          1.373567307,
          1.249762678,
          1.487191227,
          1.416076192,
          1.268163345,
          1.479969744,
          1.40292634,
          1.164203914,
          0.6806447,
          1.039667087,
          1.018304327,
          1.179147247,
          1.50925314,
          1.435415946,
          1.398340584,
          0.496573652,
          1.323595414,
          1.062271234,
          1.511116437
         ]
        }
       ],
       "layout": {
        "autosize": true,
        "coloraxis": {
         "colorbar": {
          "title": {
           "text": "DoR"
          }
         },
         "colorscale": [
          [
           0,
           "rgb(94,79,162)"
          ],
          [
           0.1,
           "rgb(50,136,189)"
          ],
          [
           0.2,
           "rgb(102,194,165)"
          ],
          [
           0.3,
           "rgb(171,221,164)"
          ],
          [
           0.4,
           "rgb(230,245,152)"
          ],
          [
           0.5,
           "rgb(255,255,191)"
          ],
          [
           0.6,
           "rgb(254,224,139)"
          ],
          [
           0.7,
           "rgb(253,174,97)"
          ],
          [
           0.8,
           "rgb(244,109,67)"
          ],
          [
           0.9,
           "rgb(213,62,79)"
          ],
          [
           1,
           "rgb(158,1,66)"
          ]
         ]
        },
        "legend": {
         "tracegroupgap": 0
        },
        "scene": {
         "aspectmode": "auto",
         "aspectratio": {
          "x": 1,
          "y": 1,
          "z": 1
         },
         "camera": {
          "center": {
           "x": 0,
           "y": 0,
           "z": 0
          },
          "eye": {
           "x": 1.05718559164356,
           "y": -1.0108597097305012,
           "z": 1.596252258280258
          },
          "projection": {
           "type": "perspective"
          },
          "up": {
           "x": 0,
           "y": 0,
           "z": 1
          }
         },
         "domain": {
          "x": [
           0,
           1
          ],
          "y": [
           0,
           1
          ]
         },
         "xaxis": {
          "title": {
           "text": "log(M<sub>★</sub>)[10<sup>11</sup>]"
          },
          "type": "linear"
         },
         "yaxis": {
          "title": {
           "text": "σ<sub>★</sub>[km/s]"
          },
          "type": "linear"
         },
         "zaxis": {
          "title": {
           "text": "size[kpc]"
          },
          "type": "linear"
         }
        },
        "template": {
         "data": {
          "bar": [
           {
            "error_x": {
             "color": "#2a3f5f"
            },
            "error_y": {
             "color": "#2a3f5f"
            },
            "marker": {
             "line": {
              "color": "#E5ECF6",
              "width": 0.5
             },
             "pattern": {
              "fillmode": "overlay",
              "size": 10,
              "solidity": 0.2
             }
            },
            "type": "bar"
           }
          ],
          "barpolar": [
           {
            "marker": {
             "line": {
              "color": "#E5ECF6",
              "width": 0.5
             },
             "pattern": {
              "fillmode": "overlay",
              "size": 10,
              "solidity": 0.2
             }
            },
            "type": "barpolar"
           }
          ],
          "carpet": [
           {
            "aaxis": {
             "endlinecolor": "#2a3f5f",
             "gridcolor": "white",
             "linecolor": "white",
             "minorgridcolor": "white",
             "startlinecolor": "#2a3f5f"
            },
            "baxis": {
             "endlinecolor": "#2a3f5f",
             "gridcolor": "white",
             "linecolor": "white",
             "minorgridcolor": "white",
             "startlinecolor": "#2a3f5f"
            },
            "type": "carpet"
           }
          ],
          "choropleth": [
           {
            "colorbar": {
             "outlinewidth": 0,
             "ticks": ""
            },
            "type": "choropleth"
           }
          ],
          "contour": [
           {
            "colorbar": {
             "outlinewidth": 0,
             "ticks": ""
            },
            "colorscale": [
             [
              0,
              "#0d0887"
             ],
             [
              0.1111111111111111,
              "#46039f"
             ],
             [
              0.2222222222222222,
              "#7201a8"
             ],
             [
              0.3333333333333333,
              "#9c179e"
             ],
             [
              0.4444444444444444,
              "#bd3786"
             ],
             [
              0.5555555555555556,
              "#d8576b"
             ],
             [
              0.6666666666666666,
              "#ed7953"
             ],
             [
              0.7777777777777778,
              "#fb9f3a"
             ],
             [
              0.8888888888888888,
              "#fdca26"
             ],
             [
              1,
              "#f0f921"
             ]
            ],
            "type": "contour"
           }
          ],
          "contourcarpet": [
           {
            "colorbar": {
             "outlinewidth": 0,
             "ticks": ""
            },
            "type": "contourcarpet"
           }
          ],
          "heatmap": [
           {
            "colorbar": {
             "outlinewidth": 0,
             "ticks": ""
            },
            "colorscale": [
             [
              0,
              "#0d0887"
             ],
             [
              0.1111111111111111,
              "#46039f"
             ],
             [
              0.2222222222222222,
              "#7201a8"
             ],
             [
              0.3333333333333333,
              "#9c179e"
             ],
             [
              0.4444444444444444,
              "#bd3786"
             ],
             [
              0.5555555555555556,
              "#d8576b"
             ],
             [
              0.6666666666666666,
              "#ed7953"
             ],
             [
              0.7777777777777778,
              "#fb9f3a"
             ],
             [
              0.8888888888888888,
              "#fdca26"
             ],
             [
              1,
              "#f0f921"
             ]
            ],
            "type": "heatmap"
           }
          ],
          "heatmapgl": [
           {
            "colorbar": {
             "outlinewidth": 0,
             "ticks": ""
            },
            "colorscale": [
             [
              0,
              "#0d0887"
             ],
             [
              0.1111111111111111,
              "#46039f"
             ],
             [
              0.2222222222222222,
              "#7201a8"
             ],
             [
              0.3333333333333333,
              "#9c179e"
             ],
             [
              0.4444444444444444,
              "#bd3786"
             ],
             [
              0.5555555555555556,
              "#d8576b"
             ],
             [
              0.6666666666666666,
              "#ed7953"
             ],
             [
              0.7777777777777778,
              "#fb9f3a"
             ],
             [
              0.8888888888888888,
              "#fdca26"
             ],
             [
              1,
              "#f0f921"
             ]
            ],
            "type": "heatmapgl"
           }
          ],
          "histogram": [
           {
            "marker": {
             "pattern": {
              "fillmode": "overlay",
              "size": 10,
              "solidity": 0.2
             }
            },
            "type": "histogram"
           }
          ],
          "histogram2d": [
           {
            "colorbar": {
             "outlinewidth": 0,
             "ticks": ""
            },
            "colorscale": [
             [
              0,
              "#0d0887"
             ],
             [
              0.1111111111111111,
              "#46039f"
             ],
             [
              0.2222222222222222,
              "#7201a8"
             ],
             [
              0.3333333333333333,
              "#9c179e"
             ],
             [
              0.4444444444444444,
              "#bd3786"
             ],
             [
              0.5555555555555556,
              "#d8576b"
             ],
             [
              0.6666666666666666,
              "#ed7953"
             ],
             [
              0.7777777777777778,
              "#fb9f3a"
             ],
             [
              0.8888888888888888,
              "#fdca26"
             ],
             [
              1,
              "#f0f921"
             ]
            ],
            "type": "histogram2d"
           }
          ],
          "histogram2dcontour": [
           {
            "colorbar": {
             "outlinewidth": 0,
             "ticks": ""
            },
            "colorscale": [
             [
              0,
              "#0d0887"
             ],
             [
              0.1111111111111111,
              "#46039f"
             ],
             [
              0.2222222222222222,
              "#7201a8"
             ],
             [
              0.3333333333333333,
              "#9c179e"
             ],
             [
              0.4444444444444444,
              "#bd3786"
             ],
             [
              0.5555555555555556,
              "#d8576b"
             ],
             [
              0.6666666666666666,
              "#ed7953"
             ],
             [
              0.7777777777777778,
              "#fb9f3a"
             ],
             [
              0.8888888888888888,
              "#fdca26"
             ],
             [
              1,
              "#f0f921"
             ]
            ],
            "type": "histogram2dcontour"
           }
          ],
          "mesh3d": [
           {
            "colorbar": {
             "outlinewidth": 0,
             "ticks": ""
            },
            "type": "mesh3d"
           }
          ],
          "parcoords": [
           {
            "line": {
             "colorbar": {
              "outlinewidth": 0,
              "ticks": ""
             }
            },
            "type": "parcoords"
           }
          ],
          "pie": [
           {
            "automargin": true,
            "type": "pie"
           }
          ],
          "scatter": [
           {
            "fillpattern": {
             "fillmode": "overlay",
             "size": 10,
             "solidity": 0.2
            },
            "type": "scatter"
           }
          ],
          "scatter3d": [
           {
            "line": {
             "colorbar": {
              "outlinewidth": 0,
              "ticks": ""
             }
            },
            "marker": {
             "colorbar": {
              "outlinewidth": 0,
              "ticks": ""
             }
            },
            "type": "scatter3d"
           }
          ],
          "scattercarpet": [
           {
            "marker": {
             "colorbar": {
              "outlinewidth": 0,
              "ticks": ""
             }
            },
            "type": "scattercarpet"
           }
          ],
          "scattergeo": [
           {
            "marker": {
             "colorbar": {
              "outlinewidth": 0,
              "ticks": ""
             }
            },
            "type": "scattergeo"
           }
          ],
          "scattergl": [
           {
            "marker": {
             "colorbar": {
              "outlinewidth": 0,
              "ticks": ""
             }
            },
            "type": "scattergl"
           }
          ],
          "scattermapbox": [
           {
            "marker": {
             "colorbar": {
              "outlinewidth": 0,
              "ticks": ""
             }
            },
            "type": "scattermapbox"
           }
          ],
          "scatterpolar": [
           {
            "marker": {
             "colorbar": {
              "outlinewidth": 0,
              "ticks": ""
             }
            },
            "type": "scatterpolar"
           }
          ],
          "scatterpolargl": [
           {
            "marker": {
             "colorbar": {
              "outlinewidth": 0,
              "ticks": ""
             }
            },
            "type": "scatterpolargl"
           }
          ],
          "scatterternary": [
           {
            "marker": {
             "colorbar": {
              "outlinewidth": 0,
              "ticks": ""
             }
            },
            "type": "scatterternary"
           }
          ],
          "surface": [
           {
            "colorbar": {
             "outlinewidth": 0,
             "ticks": ""
            },
            "colorscale": [
             [
              0,
              "#0d0887"
             ],
             [
              0.1111111111111111,
              "#46039f"
             ],
             [
              0.2222222222222222,
              "#7201a8"
             ],
             [
              0.3333333333333333,
              "#9c179e"
             ],
             [
              0.4444444444444444,
              "#bd3786"
             ],
             [
              0.5555555555555556,
              "#d8576b"
             ],
             [
              0.6666666666666666,
              "#ed7953"
             ],
             [
              0.7777777777777778,
              "#fb9f3a"
             ],
             [
              0.8888888888888888,
              "#fdca26"
             ],
             [
              1,
              "#f0f921"
             ]
            ],
            "type": "surface"
           }
          ],
          "table": [
           {
            "cells": {
             "fill": {
              "color": "#EBF0F8"
             },
             "line": {
              "color": "white"
             }
            },
            "header": {
             "fill": {
              "color": "#C8D4E3"
             },
             "line": {
              "color": "white"
             }
            },
            "type": "table"
           }
          ]
         },
         "layout": {
          "annotationdefaults": {
           "arrowcolor": "#2a3f5f",
           "arrowhead": 0,
           "arrowwidth": 1
          },
          "autotypenumbers": "strict",
          "coloraxis": {
           "colorbar": {
            "outlinewidth": 0,
            "ticks": ""
           }
          },
          "colorscale": {
           "diverging": [
            [
             0,
             "#8e0152"
            ],
            [
             0.1,
             "#c51b7d"
            ],
            [
             0.2,
             "#de77ae"
            ],
            [
             0.3,
             "#f1b6da"
            ],
            [
             0.4,
             "#fde0ef"
            ],
            [
             0.5,
             "#f7f7f7"
            ],
            [
             0.6,
             "#e6f5d0"
            ],
            [
             0.7,
             "#b8e186"
            ],
            [
             0.8,
             "#7fbc41"
            ],
            [
             0.9,
             "#4d9221"
            ],
            [
             1,
             "#276419"
            ]
           ],
           "sequential": [
            [
             0,
             "#0d0887"
            ],
            [
             0.1111111111111111,
             "#46039f"
            ],
            [
             0.2222222222222222,
             "#7201a8"
            ],
            [
             0.3333333333333333,
             "#9c179e"
            ],
            [
             0.4444444444444444,
             "#bd3786"
            ],
            [
             0.5555555555555556,
             "#d8576b"
            ],
            [
             0.6666666666666666,
             "#ed7953"
            ],
            [
             0.7777777777777778,
             "#fb9f3a"
            ],
            [
             0.8888888888888888,
             "#fdca26"
            ],
            [
             1,
             "#f0f921"
            ]
           ],
           "sequentialminus": [
            [
             0,
             "#0d0887"
            ],
            [
             0.1111111111111111,
             "#46039f"
            ],
            [
             0.2222222222222222,
             "#7201a8"
            ],
            [
             0.3333333333333333,
             "#9c179e"
            ],
            [
             0.4444444444444444,
             "#bd3786"
            ],
            [
             0.5555555555555556,
             "#d8576b"
            ],
            [
             0.6666666666666666,
             "#ed7953"
            ],
            [
             0.7777777777777778,
             "#fb9f3a"
            ],
            [
             0.8888888888888888,
             "#fdca26"
            ],
            [
             1,
             "#f0f921"
            ]
           ]
          },
          "colorway": [
           "#636efa",
           "#EF553B",
           "#00cc96",
           "#ab63fa",
           "#FFA15A",
           "#19d3f3",
           "#FF6692",
           "#B6E880",
           "#FF97FF",
           "#FECB52"
          ],
          "font": {
           "color": "#2a3f5f"
          },
          "geo": {
           "bgcolor": "white",
           "lakecolor": "white",
           "landcolor": "#E5ECF6",
           "showlakes": true,
           "showland": true,
           "subunitcolor": "white"
          },
          "hoverlabel": {
           "align": "left"
          },
          "hovermode": "closest",
          "mapbox": {
           "style": "light"
          },
          "paper_bgcolor": "white",
          "plot_bgcolor": "#E5ECF6",
          "polar": {
           "angularaxis": {
            "gridcolor": "white",
            "linecolor": "white",
            "ticks": ""
           },
           "bgcolor": "#E5ECF6",
           "radialaxis": {
            "gridcolor": "white",
            "linecolor": "white",
            "ticks": ""
           }
          },
          "scene": {
           "xaxis": {
            "backgroundcolor": "#E5ECF6",
            "gridcolor": "white",
            "gridwidth": 2,
            "linecolor": "white",
            "showbackground": true,
            "ticks": "",
            "zerolinecolor": "white"
           },
           "yaxis": {
            "backgroundcolor": "#E5ECF6",
            "gridcolor": "white",
            "gridwidth": 2,
            "linecolor": "white",
            "showbackground": true,
            "ticks": "",
            "zerolinecolor": "white"
           },
           "zaxis": {
            "backgroundcolor": "#E5ECF6",
            "gridcolor": "white",
            "gridwidth": 2,
            "linecolor": "white",
            "showbackground": true,
            "ticks": "",
            "zerolinecolor": "white"
           }
          },
          "shapedefaults": {
           "line": {
            "color": "#2a3f5f"
           }
          },
          "ternary": {
           "aaxis": {
            "gridcolor": "white",
            "linecolor": "white",
            "ticks": ""
           },
           "baxis": {
            "gridcolor": "white",
            "linecolor": "white",
            "ticks": ""
           },
           "bgcolor": "#E5ECF6",
           "caxis": {
            "gridcolor": "white",
            "linecolor": "white",
            "ticks": ""
           }
          },
          "title": {
           "x": 0.05
          },
          "xaxis": {
           "automargin": true,
           "gridcolor": "white",
           "linecolor": "white",
           "ticks": "",
           "title": {
            "standoff": 15
           },
           "zerolinecolor": "white",
           "zerolinewidth": 2
          },
          "yaxis": {
           "automargin": true,
           "gridcolor": "white",
           "linecolor": "white",
           "ticks": "",
           "title": {
            "standoff": 15
           },
           "zerolinecolor": "white",
           "zerolinewidth": 2
          }
         }
        },
        "title": {
         "text": "The M<sub>★</sub>-σ<sub>★</sub>-size-Dor relation for the INSPIRE sample "
        }
       }
      },
      "image/png": "[encoded data removed]",
      "text/html": [
       "<div>                            <div id=\"097151d1-c451-48d6-8388-c89d1611b498\" class=\"plotly-graph-div\" style=\"height:525px; width:100%;\"></div>            <script type=\"text/javascript\">                require([\"plotly\"], function(Plotly) {                    window.PLOTLYENV=window.PLOTLYENV || {};                                    if (document.getElementById(\"097151d1-c451-48d6-8388-c89d1611b498\")) {                    Plotly.newPlot(                        \"097151d1-c451-48d6-8388-c89d1611b498\",                        [{\"hovertemplate\":\"<b>%{hovertext}</b><br><br>log(M<sub>\\u2605</sub>)[10<sup>11</sup>]=%{x}<br>\\u03c3<sub>\\u2605</sub>[km/s]=%{y}<br>size[kpc]=%{z}<br>DoR=%{marker.color}<extra></extra>\",\"hovertext\":[\"J0847+0112\",\"J2305-3436\",\"J0909+0147\",\"J2204-3112\",\"J1438-0127\",\"J1040+0056\",\"J0842+0059\",\"J0211-3155\",\"J2359-3320\",\"J0920+0212\",\"J1412-0020\",\"J1449-0138\",\"J0224-3143\",\"J0838+0052\",\"J0317-2957\",\"J2202-3101\",\"J1457-0140\",\"J1218+0232\",\"J0844+0148\",\"J0917-0123\",\"J2356-3332\",\"J0918+0122\",\"J0240-3141\",\"J0314-3215\",\"J1411+0233\",\"J1420-0035\",\"J1114+0039\",\"J0316-2953\",\"J1228-0153\",\"J0857-0108\",\"J1527-0012\",\"J1447-0149\",\"J1527-0023\",\"J0321-3213\",\"J2312-3438\",\"J1202+0251\",\"J1414+0004\",\"J1128-0153\",\"J1417+0106\",\"J1436+0007\",\"J0904-0018\",\"J1402+0117\",\"J1156-0023\",\"J1026+0033\",\"J2257-3306\",\"J0920+0126\",\"J0326-3303\",\"J1142+0012\",\"J1456+0020\",\"J0226-3158\",\"J1154-0016\",\"J2327-3312\"],\"legendgroup\":\"\",\"marker\":{\"color\":[0.825093255,0.797731047,0.787672806,0.784897237,0.780994755,0.767070231,0.726792879,0.721573287,0.710572318,0.637540282,0.610483283,0.604298163,0.556649064,0.537669507,0.508577098,0.478071607,0.470480757,0.453378957,0.450823326,0.435361935,0.435291874,0.433346502,0.425474769,0.417571348,0.410430697,0.410364392,0.404968034,0.396672288,0.394887719,0.387734887,0.382597366,0.382481321,0.37254327,0.372302031,0.363709672,0.362880041,0.361908258,0.34461515,0.333966303,0.329596367,0.318325308,0.313170397,0.304283282,0.289615682,0.274711756,0.251970141,0.249927572,0.183226845,0.165749056,0.117680162,0.114995672,0.057014774],\"coloraxis\":\"coloraxis\",\"symbol\":\"circle\",\"size\":5.5},\"mode\":\"markers\",\"name\":\"\",\"scene\":\"scene\",\"showlegend\":false,\"x\":[10.99509737,10.93285154,11.02252962,10.95634138,10.94359512,10.97,10.96,10.94242617,11.02744352,11.01346089,11.0784593,11.01328702,11.43297338,10.94,10.94109707,11.03949756,11.18,10.97,10.85,11.34,10.98916052,11.3546632,10.99167661,11.00029741,11.19,10.995485,11.21,10.94107442,11.06,11.0,11.24,10.93388755,11.06,11.09085577,11.12832438,10.83,11.07030609,11.11288491,10.95957938,11.06115358,11.1,10.82,11.14160799,11.17074274,10.96955492,10.99,10.96845797,10.92410634,10.85,10.83735659,10.80384264,11.19573286],\"y\":[244,295,401,227,218,240,324,245,267,246,339,192,283,189,187,221,203,171,224,239,162,242,216,178,217,209,181,192,191,166,237,187,188,211,221,165,205,192,203,193,205,166,177,225,185,190,173,129,194,185,163,227],\"z\":[1.372944267,1.291906474,1.053676612,1.394320857,1.201263003,1.29380305,1.008176823,1.067998511,1.039511542,1.477206982,1.424172928,1.444921004,1.54885284,1.277955847,1.047973362,1.447187562,1.659017899,1.403285347,1.144658805,1.366316963,1.058849968,1.707255263,0.806293015,0.656744373,1.067229071,1.345351853,1.52044021,1.016460273,1.6055248,1.400019509,1.25520397,1.508394137,1.117926188,1.373567307,1.249762678,1.487191227,1.416076192,1.268163345,1.479969744,1.40292634,1.164203914,0.6806447,1.039667087,1.018304327,1.179147247,1.50925314,1.435415946,1.398340584,0.496573652,1.323595414,1.062271234,1.511116437],\"type\":\"scatter3d\"}],                        {\"template\":{\"data\":{\"histogram2dcontour\":[{\"type\":\"histogram2dcontour\",\"colorbar\":{\"outlinewidth\":0,\"ticks\":\"\"},\"colorscale\":[[0.0,\"#0d0887\"],[0.1111111111111111,\"#46039f\"],[0.2222222222222222,\"#7201a8\"],[0.3333333333333333,\"#9c179e\"],[0.4444444444444444,\"#bd3786\"],[0.5555555555555556,\"#d8576b\"],[0.6666666666666666,\"#ed7953\"],[0.7777777777777778,\"#fb9f3a\"],[0.8888888888888888,\"#fdca26\"],[1.0,\"#f0f921\"]]}],\"choropleth\":[{\"type\":\"choropleth\",\"colorbar\":{\"outlinewidth\":0,\"ticks\":\"\"}}],\"histogram2d\":[{\"type\":\"histogram2d\",\"colorbar\":{\"outlinewidth\":0,\"ticks\":\"\"},\"colorscale\":[[0.0,\"#0d0887\"],[0.1111111111111111,\"#46039f\"],[0.2222222222222222,\"#7201a8\"],[0.3333333333333333,\"#9c179e\"],[0.4444444444444444,\"#bd3786\"],[0.5555555555555556,\"#d8576b\"],[0.6666666666666666,\"#ed7953\"],[0.7777777777777778,\"#fb9f3a\"],[0.8888888888888888,\"#fdca26\"],[1.0,\"#f0f921\"]]}],\"heatmap\":[{\"type\":\"heatmap\",\"colorbar\":{\"outlinewidth\":0,\"ticks\":\"\"},\"colorscale\":[[0.0,\"#0d0887\"],[0.1111111111111111,\"#46039f\"],[0.2222222222222222,\"#7201a8\"],[0.3333333333333333,\"#9c179e\"],[0.4444444444444444,\"#bd3786\"],[0.5555555555555556,\"#d8576b\"],[0.6666666666666666,\"#ed7953\"],[0.7777777777777778,\"#fb9f3a\"],[0.8888888888888888,\"#fdca26\"],[1.0,\"#f0f921\"]]}],\"heatmapgl\":[{\"type\":\"heatmapgl\",\"colorbar\":{\"outlinewidth\":0,\"ticks\":\"\"},\"colorscale\":[[0.0,\"#0d0887\"],[0.1111111111111111,\"#46039f\"],[0.2222222222222222,\"#7201a8\"],[0.3333333333333333,\"#9c179e\"],[0.4444444444444444,\"#bd3786\"],[0.5555555555555556,\"#d8576b\"],[0.6666666666666666,\"#ed7953\"],[0.7777777777777778,\"#fb9f3a\"],[0.8888888888888888,\"#fdca26\"],[1.0,\"#f0f921\"]]}],\"contourcarpet\":[{\"type\":\"contourcarpet\",\"colorbar\":{\"outlinewidth\":0,\"ticks\":\"\"}}],\"contour\":[{\"type\":\"contour\",\"colorbar\":{\"outlinewidth\":0,\"ticks\":\"\"},\"colorscale\":[[0.0,\"#0d0887\"],[0.1111111111111111,\"#46039f\"],[0.2222222222222222,\"#7201a8\"],[0.3333333333333333,\"#9c179e\"],[0.4444444444444444,\"#bd3786\"],[0.5555555555555556,\"#d8576b\"],[0.6666666666666666,\"#ed7953\"],[0.7777777777777778,\"#fb9f3a\"],[0.8888888888888888,\"#fdca26\"],[1.0,\"#f0f921\"]]}],\"surface\":[{\"type\":\"surface\",\"colorbar\":{\"outlinewidth\":0,\"ticks\":\"\"},\"colorscale\":[[0.0,\"#0d0887\"],[0.1111111111111111,\"#46039f\"],[0.2222222222222222,\"#7201a8\"],[0.3333333333333333,\"#9c179e\"],[0.4444444444444444,\"#bd3786\"],[0.5555555555555556,\"#d8576b\"],[0.6666666666666666,\"#ed7953\"],[0.7777777777777778,\"#fb9f3a\"],[0.8888888888888888,\"#fdca26\"],[1.0,\"#f0f921\"]]}],\"mesh3d\":[{\"type\":\"mesh3d\",\"colorbar\":{\"outlinewidth\":0,\"ticks\":\"\"}}],\"scatter\":[{\"fillpattern\":{\"fillmode\":\"overlay\",\"size\":10,\"solidity\":0.2},\"type\":\"scatter\"}],\"parcoords\":[{\"type\":\"parcoords\",\"line\":{\"colorbar\":{\"outlinewidth\":0,\"ticks\":\"\"}}}],\"scatterpolargl\":[{\"type\":\"scatterpolargl\",\"marker\":{\"colorbar\":{\"outlinewidth\":0,\"ticks\":\"\"}}}],\"bar\":[{\"error_x\":{\"color\":\"#2a3f5f\"},\"error_y\":{\"color\":\"#2a3f5f\"},\"marker\":{\"line\":{\"color\":\"#E5ECF6\",\"width\":0.5},\"pattern\":{\"fillmode\":\"overlay\",\"size\":10,\"solidity\":0.2}},\"type\":\"bar\"}],\"scattergeo\":[{\"type\":\"scattergeo\",\"marker\":{\"colorbar\":{\"outlinewidth\":0,\"ticks\":\"\"}}}],\"scatterpolar\":[{\"type\":\"scatterpolar\",\"marker\":{\"colorbar\":{\"outlinewidth\":0,\"ticks\":\"\"}}}],\"histogram\":[{\"marker\":{\"pattern\":{\"fillmode\":\"overlay\",\"size\":10,\"solidity\":0.2}},\"type\":\"histogram\"}],\"scattergl\":[{\"type\":\"scattergl\",\"marker\":{\"colorbar\":{\"outlinewidth\":0,\"ticks\":\"\"}}}],\"scatter3d\":[{\"type\":\"scatter3d\",\"line\":{\"colorbar\":{\"outlinewidth\":0,\"ticks\":\"\"}},\"marker\":{\"colorbar\":{\"outlinewidth\":0,\"ticks\":\"\"}}}],\"scattermapbox\":[{\"type\":\"scattermapbox\",\"marker\":{\"colorbar\":{\"outlinewidth\":0,\"ticks\":\"\"}}}],\"scatterternary\":[{\"type\":\"scatterternary\",\"marker\":{\"colorbar\":{\"outlinewidth\":0,\"ticks\":\"\"}}}],\"scattercarpet\":[{\"type\":\"scattercarpet\",\"marker\":{\"colorbar\":{\"outlinewidth\":0,\"ticks\":\"\"}}}],\"carpet\":[{\"aaxis\":{\"endlinecolor\":\"#2a3f5f\",\"gridcolor\":\"white\",\"linecolor\":\"white\",\"minorgridcolor\":\"white\",\"startlinecolor\":\"#2a3f5f\"},\"baxis\":{\"endlinecolor\":\"#2a3f5f\",\"gridcolor\":\"white\",\"linecolor\":\"white\",\"minorgridcolor\":\"white\",\"startlinecolor\":\"#2a3f5f\"},\"type\":\"carpet\"}],\"table\":[{\"cells\":{\"fill\":{\"color\":\"#EBF0F8\"},\"line\":{\"color\":\"white\"}},\"header\":{\"fill\":{\"color\":\"#C8D4E3\"},\"line\":{\"color\":\"white\"}},\"type\":\"table\"}],\"barpolar\":[{\"marker\":{\"line\":{\"color\":\"#E5ECF6\",\"width\":0.5},\"pattern\":{\"fillmode\":\"overlay\",\"size\":10,\"solidity\":0.2}},\"type\":\"barpolar\"}],\"pie\":[{\"automargin\":true,\"type\":\"pie\"}]},\"layout\":{\"autotypenumbers\":\"strict\",\"colorway\":[\"#636efa\",\"#EF553B\",\"#00cc96\",\"#ab63fa\",\"#FFA15A\",\"#19d3f3\",\"#FF6692\",\"#B6E880\",\"#FF97FF\",\"#FECB52\"],\"font\":{\"color\":\"#2a3f5f\"},\"hovermode\":\"closest\",\"hoverlabel\":{\"align\":\"left\"},\"paper_bgcolor\":\"white\",\"plot_bgcolor\":\"#E5ECF6\",\"polar\":{\"bgcolor\":\"#E5ECF6\",\"angularaxis\":{\"gridcolor\":\"white\",\"linecolor\":\"white\",\"ticks\":\"\"},\"radialaxis\":{\"gridcolor\":\"white\",\"linecolor\":\"white\",\"ticks\":\"\"}},\"ternary\":{\"bgcolor\":\"#E5ECF6\",\"aaxis\":{\"gridcolor\":\"white\",\"linecolor\":\"white\",\"ticks\":\"\"},\"baxis\":{\"gridcolor\":\"white\",\"linecolor\":\"white\",\"ticks\":\"\"},\"caxis\":{\"gridcolor\":\"white\",\"linecolor\":\"white\",\"ticks\":\"\"}},\"coloraxis\":{\"colorbar\":{\"outlinewidth\":0,\"ticks\":\"\"}},\"colorscale\":{\"sequential\":[[0.0,\"#0d0887\"],[0.1111111111111111,\"#46039f\"],[0.2222222222222222,\"#7201a8\"],[0.3333333333333333,\"#9c179e\"],[0.4444444444444444,\"#bd3786\"],[0.5555555555555556,\"#d8576b\"],[0.6666666666666666,\"#ed7953\"],[0.7777777777777778,\"#fb9f3a\"],[0.8888888888888888,\"#fdca26\"],[1.0,\"#f0f921\"]],\"sequentialminus\":[[0.0,\"#0d0887\"],[0.1111111111111111,\"#46039f\"],[0.2222222222222222,\"#7201a8\"],[0.3333333333333333,\"#9c179e\"],[0.4444444444444444,\"#bd3786\"],[0.5555555555555556,\"#d8576b\"],[0.6666666666666666,\"#ed7953\"],[0.7777777777777778,\"#fb9f3a\"],[0.8888888888888888,\"#fdca26\"],[1.0,\"#f0f921\"]],\"diverging\":[[0,\"#8e0152\"],[0.1,\"#c51b7d\"],[0.2,\"#de77ae\"],[0.3,\"#f1b6da\"],[0.4,\"#fde0ef\"],[0.5,\"#f7f7f7\"],[0.6,\"#e6f5d0\"],[0.7,\"#b8e186\"],[0.8,\"#7fbc41\"],[0.9,\"#4d9221\"],[1,\"#276419\"]]},\"xaxis\":{\"gridcolor\":\"white\",\"linecolor\":\"white\",\"ticks\":\"\",\"title\":{\"standoff\":15},\"zerolinecolor\":\"white\",\"automargin\":true,\"zerolinewidth\":2},\"yaxis\":{\"gridcolor\":\"white\",\"linecolor\":\"white\",\"ticks\":\"\",\"title\":{\"standoff\":15},\"zerolinecolor\":\"white\",\"automargin\":true,\"zerolinewidth\":2},\"scene\":{\"xaxis\":{\"backgroundcolor\":\"#E5ECF6\",\"gridcolor\":\"white\",\"linecolor\":\"white\",\"showbackground\":true,\"ticks\":\"\",\"zerolinecolor\":\"white\",\"gridwidth\":2},\"yaxis\":{\"backgroundcolor\":\"#E5ECF6\",\"gridcolor\":\"white\",\"linecolor\":\"white\",\"showbackground\":true,\"ticks\":\"\",\"zerolinecolor\":\"white\",\"gridwidth\":2},\"zaxis\":{\"backgroundcolor\":\"#E5ECF6\",\"gridcolor\":\"white\",\"linecolor\":\"white\",\"showbackground\":true,\"ticks\":\"\",\"zerolinecolor\":\"white\",\"gridwidth\":2}},\"shapedefaults\":{\"line\":{\"color\":\"#2a3f5f\"}},\"annotationdefaults\":{\"arrowcolor\":\"#2a3f5f\",\"arrowhead\":0,\"arrowwidth\":1},\"geo\":{\"bgcolor\":\"white\",\"landcolor\":\"#E5ECF6\",\"subunitcolor\":\"white\",\"showland\":true,\"showlakes\":true,\"lakecolor\":\"white\"},\"title\":{\"x\":0.05},\"mapbox\":{\"style\":\"light\"}}},\"scene\":{\"domain\":{\"x\":[0.0,1.0],\"y\":[0.0,1.0]},\"xaxis\":{\"title\":{\"text\":\"log(M<sub>\\u2605</sub>)[10<sup>11</sup>]\"}},\"yaxis\":{\"title\":{\"text\":\"\\u03c3<sub>\\u2605</sub>[km/s]\"}},\"zaxis\":{\"title\":{\"text\":\"size[kpc]\"}}},\"coloraxis\":{\"colorbar\":{\"title\":{\"text\":\"DoR\"}},\"colorscale\":[[0.0,\"rgb(94,79,162)\"],[0.1,\"rgb(50,136,189)\"],[0.2,\"rgb(102,194,165)\"],[0.3,\"rgb(171,221,164)\"],[0.4,\"rgb(230,245,152)\"],[0.5,\"rgb(255,255,191)\"],[0.6,\"rgb(254,224,139)\"],[0.7,\"rgb(253,174,97)\"],[0.8,\"rgb(244,109,67)\"],[0.9,\"rgb(213,62,79)\"],[1.0,\"rgb(158,1,66)\"]]},\"legend\":{\"tracegroupgap\":0},\"title\":{\"text\":\"The M<sub>\\u2605</sub>-\\u03c3<sub>\\u2605</sub>-size-Dor relation for the INSPIRE sample \"}},                        {\"responsive\": true}                    ).then(function(){\n",
       "                            \n",
       "var gd = document.getElementById('097151d1-c451-48d6-8388-c89d1611b498');\n",
       "var x = new MutationObserver(function (mutations, observer) {{\n",
       "        var display = window.getComputedStyle(gd).display;\n",
       "        if (!display || display === 'none') {{\n",
       "            console.log([gd, 'removed!']);\n",
       "            Plotly.purge(gd);\n",
       "            observer.disconnect();\n",
       "        }}\n",
       "}});\n",
       "\n",
       "// Listen for the removal of the full notebook cells\n",
       "var notebookContainer = gd.closest('#notebook-container');\n",
       "if (notebookContainer) {{\n",
       "    x.observe(notebookContainer, {childList: true});\n",
       "}}\n",
       "\n",
       "// Listen for the clearing of the current output cell\n",
       "var outputEl = gd.closest('.output');\n",
       "if (outputEl) {{\n",
       "    x.observe(outputEl, {childList: true});\n",
       "}}\n",
       "\n",
       "                        })                };                });            </script>        </div>"
      ]
     },
     "metadata": {},
     "output_type": "display_data"
    }
   ],
   "source": [
    "# Michalina Maksymowicz-Maciata 07.08.2023\n",
    "import plotly.express as px\n",
    "import pandas as pd\n",
    "import numpy as np\n",
    "\n",
    "mass = [10.99509737,10.93285154,11.02252962,10.95634138,10.94359512,10.97,10.96,10.94242617,11.02744352,11.01346089,\n",
    "        11.0784593,11.01328702,11.43297338,10.94,10.94109707,11.03949756,11.18,10.97,10.85,11.34,10.98916052,11.3546632,10.99167661,\n",
    "        11.00029741,11.19,10.995485,11.21,10.94107442,11.06,11,11.24,10.93388755,11.06,11.09085577,11.12832438,10.83,11.07030609,\n",
    "        11.11288491,10.95957938,11.06115358,11.1,10.82,11.14160799,11.17074274,10.96955492,10.99,10.96845797,10.92410634,10.85,\n",
    "        10.83735659,10.80384264,11.19573286]\n",
    "\n",
    "sigma = [244,295,401,227,218,240,324,245,267,246,339,192,283,189,187,221,203,171,224,239,162,242,216,178,217,209,181,192,191,166,237,187,\n",
    "         188,211,221,165,205,192,203,193,205,166,177,225,185,190,173,129,194,185,163,227]\n",
    "size = [1.372944267,1.291906474,1.053676612,1.394320857,1.201263003,1.29380305,1.008176823,1.067998511,1.039511542,1.477206982,1.424172928,\n",
    "        1.444921004,1.54885284,1.277955847,1.047973362,1.447187562,1.659017899,1.403285347,1.144658805,1.366316963,1.058849968,1.707255263,\n",
    "        0.806293015,0.656744373,1.067229071,1.345351853,1.52044021,1.016460273,1.6055248,1.400019509,1.25520397,1.508394137,1.117926188,\n",
    "        1.373567307,1.249762678,1.487191227,1.416076192,1.268163345,1.479969744,1.40292634,1.164203914,0.6806447,1.039667087,1.018304327,\n",
    "        1.179147247,1.50925314,1.435415946,1.398340584,0.496573652,1.323595414,1.062271234,1.511116437]\n",
    "dor = [0.825093255,0.797731047,0.787672806,0.784897237,0.780994755,0.767070231,0.726792879,0.721573287,0.710572318,0.637540282,0.610483283,\n",
    "       0.604298163,0.556649064,0.537669507,0.508577098,0.478071607,0.470480757,0.453378957,0.450823326,0.435361935,0.435291874,0.433346502,\n",
    "       0.425474769,0.417571348,0.410430697,0.410364392,0.404968034,0.396672288,0.394887719,0.387734887,0.382597366,0.382481321,0.37254327,\n",
    "       0.372302031,0.363709672,0.362880041,0.361908258,0.34461515,0.333966303,0.329596367,0.318325308,0.313170397,0.304283282,0.289615682,\n",
    "       0.274711756,0.251970141,0.249927572,0.183226845,0.165749056,0.117680162,0.114995672,0.057014774]\n",
    "name = ['J0847+0112','J2305-3436','J0909+0147','J2204-3112','J1438-0127','J1040+0056','J0842+0059','J0211-3155','J2359-3320','J0920+0212','J1412-0020','J1449-0138',\n",
    "        'J0224-3143','J0838+0052','J0317-2957','J2202-3101','J1457-0140','J1218+0232','J0844+0148','J0917-0123','J2356-3332','J0918+0122','J0240-3141','J0314-3215',\n",
    "        'J1411+0233','J1420-0035','J1114+0039','J0316-2953','J1228-0153','J0857-0108','J1527-0012','J1447-0149','J1527-0023','J0321-3213','J2312-3438','J1202+0251',\n",
    "        'J1414+0004','J1128-0153','J1417+0106','J1436+0007','J0904-0018','J1402+0117','J1156-0023','J1026+0033','J2257-3306','J0920+0126','J0326-3303','J1142+0012',\n",
    "        'J1456+0020','J0226-3158','J1154-0016','J2327-3312']\n",
    "\n",
    "columns=['log(M<sub>★</sub>)[10<sup>11</sup>]','σ<sub>★</sub>[km/s]','size[kpc]','DoR']\n",
    "df = pd.DataFrame({\n",
    "    columns[0]: mass,\n",
    "    columns[1]: sigma,\n",
    "    columns[2]: size,\n",
    "    columns[3]: dor\n",
    "})\n",
    "\n",
    "\n",
    "\n",
    "fig = px.scatter_3d(df, x=columns[0], y=columns[1], z=columns[2],color = columns[3], color_continuous_scale='Spectral_r', hover_name = name,title='The M<sub>★</sub>-σ<sub>★</sub>-size-Dor relation for the INSPIRE sample ')\n",
    "fig.update_traces(marker_size = 5.5)\n",
    "fig.show()"
   ]
  },
  {
   "cell_type": "code",
   "execution_count": null,
   "id": "42ca5e7e-a216-4df5-be96-8dacaf8547dd",
   "metadata": {},
   "outputs": [],
   "source": []
  }
 ],
 "metadata": {
  "kernelspec": {
   "display_name": "Python 3 (ipykernel)",
   "language": "python",
   "name": "python3"
  },
  "language_info": {
   "codemirror_mode": {
    "name": "ipython",
    "version": 3
   },
   "file_extension": ".py",
   "mimetype": "text/x-python",
   "name": "python",
   "nbconvert_exporter": "python",
   "pygments_lexer": "ipython3",
   "version": "3.11.3"
  }
 },
 "nbformat": 4,
 "nbformat_minor": 5
}
